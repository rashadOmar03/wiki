{
 "cells": [
  {
   "cell_type": "code",
   "execution_count": 38,
   "metadata": {},
   "outputs": [],
   "source": [
    "import requests\n",
    "from bs4 import BeautifulSoup\n",
    "import pandas as pd"
   ]
  },
  {
   "cell_type": "code",
   "execution_count": 39,
   "metadata": {},
   "outputs": [],
   "source": [
    "base_url = \"https://en.wikipedia.org/wiki/List_of_Nobel_laureates\"\n",
    "res = requests.get(base_url)\n",
    "soup = BeautifulSoup(res.text,\"html.parser\")"
   ]
  },
  {
   "cell_type": "code",
   "execution_count": 40,
   "metadata": {},
   "outputs": [],
   "source": [
    "#year,physics,cemistry,medicine,literature.peace.economics"
   ]
  },
  {
   "cell_type": "code",
   "execution_count": 41,
   "metadata": {},
   "outputs": [
    {
     "data": {
      "text/plain": [
       "125"
      ]
     },
     "execution_count": 41,
     "metadata": {},
     "output_type": "execute_result"
    }
   ],
   "source": [
    "containers = soup.find(\"tbody\").find_all(\"tr\")\n",
    "len(containers)"
   ]
  },
  {
   "cell_type": "code",
   "execution_count": 42,
   "metadata": {},
   "outputs": [
    {
     "data": {
      "text/plain": [
       "[<td><span data-sort-value=\"Röntgen, Wilhelm\"><span class=\"vcard\"><span class=\"fn\"><a href=\"/wiki/Wilhelm_R%C3%B6ntgen\" title=\"Wilhelm Röntgen\">Wilhelm Röntgen</a></span></span></span>\n",
       " </td>,\n",
       " <td><span data-sort-value=\"van 't Hoff, Jacobus Henricus\"><span class=\"vcard\"><span class=\"fn\"><a href=\"/wiki/Jacobus_Henricus_van_%27t_Hoff\" title=\"Jacobus Henricus van 't Hoff\">Jacobus Henricus van 't Hoff</a></span></span></span>\n",
       " </td>,\n",
       " <td><span data-sort-value=\"von Behring, Emil\"><span class=\"vcard\"><span class=\"fn\"><a href=\"/wiki/Emil_von_Behring\" title=\"Emil von Behring\">Emil von Behring</a></span></span></span>\n",
       " </td>,\n",
       " <td><span data-sort-value=\"Prudhomme, Sully\"><span class=\"vcard\"><span class=\"fn\"><a href=\"/wiki/Sully_Prudhomme\" title=\"Sully Prudhomme\">Sully Prudhomme</a></span></span></span>\n",
       " </td>,\n",
       " <td><span data-sort-value=\"Dunant, Henry\"><span class=\"vcard\"><span class=\"fn\"><a href=\"/wiki/Henry_Dunant\" title=\"Henry Dunant\">Henry Dunant</a></span></span></span>;<br/><span data-sort-value=\"Passy, Frédéric\"><span class=\"vcard\"><span class=\"fn\"><a href=\"/wiki/Fr%C3%A9d%C3%A9ric_Passy\" title=\"Frédéric Passy\">Frédéric Passy</a></span></span></span>\n",
       " </td>,\n",
       " <td align=\"center\" bgcolor=\"eeeeee\" rowspan=\"68\">—\n",
       " </td>]"
      ]
     },
     "execution_count": 42,
     "metadata": {},
     "output_type": "execute_result"
    }
   ],
   "source": [
    "#data\n",
    "data = containers[1].find_all(\"td\")\n",
    "data"
   ]
  },
  {
   "cell_type": "code",
   "execution_count": 43,
   "metadata": {},
   "outputs": [
    {
     "data": {
      "text/plain": [
       "'1901'"
      ]
     },
     "execution_count": 43,
     "metadata": {},
     "output_type": "execute_result"
    }
   ],
   "source": [
    "#year\n",
    "year = containers[1].find(\"th\").text.strip()\n",
    "year"
   ]
  },
  {
   "cell_type": "code",
   "execution_count": 44,
   "metadata": {},
   "outputs": [
    {
     "data": {
      "text/plain": [
       "'Wilhelm Röntgen'"
      ]
     },
     "execution_count": 44,
     "metadata": {},
     "output_type": "execute_result"
    }
   ],
   "source": [
    "#physics\n",
    "physics = data[0].text.strip()\n",
    "physics\n"
   ]
  },
  {
   "cell_type": "code",
   "execution_count": 45,
   "metadata": {},
   "outputs": [
    {
     "data": {
      "text/plain": [
       "\"Jacobus Henricus van 't Hoff\""
      ]
     },
     "execution_count": 45,
     "metadata": {},
     "output_type": "execute_result"
    }
   ],
   "source": [
    "#chemistry\n",
    "chemistry = data[1].text.strip()\n",
    "chemistry"
   ]
  },
  {
   "cell_type": "code",
   "execution_count": 46,
   "metadata": {},
   "outputs": [
    {
     "data": {
      "text/plain": [
       "'Emil von Behring'"
      ]
     },
     "execution_count": 46,
     "metadata": {},
     "output_type": "execute_result"
    }
   ],
   "source": [
    "#medicine\n",
    "medicine = data[2].text.strip()\n",
    "medicine"
   ]
  },
  {
   "cell_type": "code",
   "execution_count": 47,
   "metadata": {},
   "outputs": [
    {
     "data": {
      "text/plain": [
       "'Sully Prudhomme'"
      ]
     },
     "execution_count": 47,
     "metadata": {},
     "output_type": "execute_result"
    }
   ],
   "source": [
    "#literature\n",
    "literature = data[3].text.strip()\n",
    "literature"
   ]
  },
  {
   "cell_type": "code",
   "execution_count": 48,
   "metadata": {},
   "outputs": [
    {
     "data": {
      "text/plain": [
       "'Henry Dunant;Frédéric Passy'"
      ]
     },
     "execution_count": 48,
     "metadata": {},
     "output_type": "execute_result"
    }
   ],
   "source": [
    "#peace\n",
    "peace = data[4].text.strip()\n",
    "peace"
   ]
  },
  {
   "cell_type": "code",
   "execution_count": 49,
   "metadata": {},
   "outputs": [
    {
     "data": {
      "text/plain": [
       "'—'"
      ]
     },
     "execution_count": 49,
     "metadata": {},
     "output_type": "execute_result"
    }
   ],
   "source": [
    "#economy \n",
    "economy = data[5].text.strip()\n",
    "economy"
   ]
  },
  {
   "cell_type": "code",
   "execution_count": 50,
   "metadata": {},
   "outputs": [],
   "source": [
    "\n",
    "with open(\"yabdabado.csv\", mode = \"w\", encoding = \"utf-8\") as fd:\n",
    "    fd.write(\"year,physics,cemistry,medicine,literature,peace,economics\\n\")\n",
    "    for i in range(len(containers)):\n",
    "     if i!=0 and i!= len(containers) -1: \n",
    "        \n",
    "        #data\n",
    "        data = containers[i].find_all(\"td\")\n",
    "\n",
    "        #year\n",
    "        try: \n",
    "          year = containers[i].find(\"th\").text.strip()\n",
    "        except:\n",
    "          year = \"None\"\n",
    "\n",
    "        #physics\n",
    "        try:\n",
    "          physics = data[0].text.strip()\n",
    "        except:\n",
    "          physics = \"None\"\n",
    "\n",
    "        #chemistry\n",
    "        try:\n",
    "          chemistry = data[1].text.strip()\n",
    "        except:\n",
    "          chemistry = \"None\"\n",
    "        #medicine\n",
    "        try: \n",
    "          medicine = data[2].text.strip()\n",
    "        except:\n",
    "          medicine = \"None\"\n",
    "\n",
    "        #literature\n",
    "        try:\n",
    "          literature = data[3].text.strip()\n",
    "        except:\n",
    "          literature = \"None\"\n",
    "        #peace\n",
    "        try:\n",
    "          peace = data[4].text.strip()\n",
    "        except:\n",
    "          peace = \"None\"\n",
    "\n",
    "        #economy \n",
    "        try:\n",
    "          \n",
    "          economy = data[5].text.strip()\n",
    "        except:\n",
    "          economy = \"None\"\n",
    "        \n",
    "        fd.write(f\"\\\"{year}\\\",\\\"{physics}\\\",\\\"{chemistry}\\\",\\\"{medicine}\\\",\\\"{literature}\\\",\\\"{peace}\\\",\\\"{economy}\\\"\\n\")\n",
    "\n",
    "     \n",
    "\n",
    "     \n",
    "        "
   ]
  },
  {
   "cell_type": "code",
   "execution_count": 51,
   "metadata": {},
   "outputs": [
    {
     "data": {
      "text/html": [
       "<div>\n",
       "<style scoped>\n",
       "    .dataframe tbody tr th:only-of-type {\n",
       "        vertical-align: middle;\n",
       "    }\n",
       "\n",
       "    .dataframe tbody tr th {\n",
       "        vertical-align: top;\n",
       "    }\n",
       "\n",
       "    .dataframe thead th {\n",
       "        text-align: right;\n",
       "    }\n",
       "</style>\n",
       "<table border=\"1\" class=\"dataframe\">\n",
       "  <thead>\n",
       "    <tr style=\"text-align: right;\">\n",
       "      <th></th>\n",
       "      <th>year</th>\n",
       "      <th>physics</th>\n",
       "      <th>cemistry</th>\n",
       "      <th>medicine</th>\n",
       "      <th>literature</th>\n",
       "      <th>peace</th>\n",
       "      <th>economics</th>\n",
       "    </tr>\n",
       "  </thead>\n",
       "  <tbody>\n",
       "    <tr>\n",
       "      <th>0</th>\n",
       "      <td>1901</td>\n",
       "      <td>Wilhelm Röntgen</td>\n",
       "      <td>Jacobus Henricus van 't Hoff</td>\n",
       "      <td>Emil von Behring</td>\n",
       "      <td>Sully Prudhomme</td>\n",
       "      <td>Henry Dunant;Frédéric Passy</td>\n",
       "      <td>—</td>\n",
       "    </tr>\n",
       "    <tr>\n",
       "      <th>1</th>\n",
       "      <td>1902</td>\n",
       "      <td>Hendrik Lorentz;Pieter Zeeman</td>\n",
       "      <td>Emil Fischer</td>\n",
       "      <td>Ronald Ross</td>\n",
       "      <td>Theodor Mommsen</td>\n",
       "      <td>Élie Ducommun;Charles Albert Gobat</td>\n",
       "      <td>None</td>\n",
       "    </tr>\n",
       "    <tr>\n",
       "      <th>2</th>\n",
       "      <td>1903</td>\n",
       "      <td>Henri Becquerel;Pierre Curie;Marie Curie</td>\n",
       "      <td>Svante Arrhenius</td>\n",
       "      <td>Niels Ryberg Finsen</td>\n",
       "      <td>Bjørnstjerne Bjørnson</td>\n",
       "      <td>Randal Cremer</td>\n",
       "      <td>None</td>\n",
       "    </tr>\n",
       "    <tr>\n",
       "      <th>3</th>\n",
       "      <td>1904</td>\n",
       "      <td>Lord Rayleigh</td>\n",
       "      <td>William Ramsay</td>\n",
       "      <td>Ivan Pavlov</td>\n",
       "      <td>Frédéric Mistral;José Echegaray</td>\n",
       "      <td>Institut de Droit International</td>\n",
       "      <td>None</td>\n",
       "    </tr>\n",
       "    <tr>\n",
       "      <th>4</th>\n",
       "      <td>1905</td>\n",
       "      <td>Philipp Lenard</td>\n",
       "      <td>Adolf von Baeyer</td>\n",
       "      <td>Robert Koch</td>\n",
       "      <td>Henryk Sienkiewicz</td>\n",
       "      <td>Bertha von Suttner</td>\n",
       "      <td>None</td>\n",
       "    </tr>\n",
       "    <tr>\n",
       "      <th>...</th>\n",
       "      <td>...</td>\n",
       "      <td>...</td>\n",
       "      <td>...</td>\n",
       "      <td>...</td>\n",
       "      <td>...</td>\n",
       "      <td>...</td>\n",
       "      <td>...</td>\n",
       "    </tr>\n",
       "    <tr>\n",
       "      <th>118</th>\n",
       "      <td>2019</td>\n",
       "      <td>Jim Peebles;Michel Mayor;Didier Queloz</td>\n",
       "      <td>John B. Goodenough;M. Stanley Whittingham;Akir...</td>\n",
       "      <td>William Kaelin Jr.;Peter J. Ratcliffe;Gregg L....</td>\n",
       "      <td>Peter Handke</td>\n",
       "      <td>Abiy Ahmed</td>\n",
       "      <td>Abhijit Banerjee;Esther Duflo;Michael Kremer</td>\n",
       "    </tr>\n",
       "    <tr>\n",
       "      <th>119</th>\n",
       "      <td>2020</td>\n",
       "      <td>Roger Penrose;Reinhard Genzel;Andrea M. Ghez</td>\n",
       "      <td>Emmanuelle Charpentier;Jennifer Doudna</td>\n",
       "      <td>Harvey J. Alter;Michael Houghton;Charles M. Rice</td>\n",
       "      <td>Louise Glück</td>\n",
       "      <td>World Food Programme</td>\n",
       "      <td>Paul Milgrom;Robert B. Wilson</td>\n",
       "    </tr>\n",
       "    <tr>\n",
       "      <th>120</th>\n",
       "      <td>2021</td>\n",
       "      <td>Giorgio Parisi;Klaus Hasselmann;Syukuro Manabe</td>\n",
       "      <td>Benjamin List;David MacMillan</td>\n",
       "      <td>David Julius;Ardem Patapoutian</td>\n",
       "      <td>Abdulrazak Gurnah</td>\n",
       "      <td>Maria Ressa;Dmitry Muratov</td>\n",
       "      <td>David Card;Joshua Angrist;Guido Imbens</td>\n",
       "    </tr>\n",
       "    <tr>\n",
       "      <th>121</th>\n",
       "      <td>2022</td>\n",
       "      <td>Alain Aspect;John Clauser;Anton Zeilinger</td>\n",
       "      <td>Carolyn Bertozzi;Morten P. Meldal;Karl Barry S...</td>\n",
       "      <td>Svante Pääbo</td>\n",
       "      <td>Annie Ernaux</td>\n",
       "      <td>Ales Bialiatski;Memorial;Centre for Civil Libe...</td>\n",
       "      <td>Ben Bernanke;Douglas Diamond;Philip H. Dybvig</td>\n",
       "    </tr>\n",
       "    <tr>\n",
       "      <th>122</th>\n",
       "      <td>2023</td>\n",
       "      <td>Pierre Agostini;Ferenc Krausz;Anne L'Huillier</td>\n",
       "      <td>Moungi Bawendi;Louis E. Brus;Alexey Ekimov</td>\n",
       "      <td>Katalin Karikó;Drew Weissman</td>\n",
       "      <td>Jon Fosse</td>\n",
       "      <td>Narges Mohammadi</td>\n",
       "      <td>Claudia Goldin</td>\n",
       "    </tr>\n",
       "  </tbody>\n",
       "</table>\n",
       "<p>123 rows × 7 columns</p>\n",
       "</div>"
      ],
      "text/plain": [
       "     year                                         physics  \\\n",
       "0    1901                                 Wilhelm Röntgen   \n",
       "1    1902                   Hendrik Lorentz;Pieter Zeeman   \n",
       "2    1903        Henri Becquerel;Pierre Curie;Marie Curie   \n",
       "3    1904                                   Lord Rayleigh   \n",
       "4    1905                                  Philipp Lenard   \n",
       "..    ...                                             ...   \n",
       "118  2019          Jim Peebles;Michel Mayor;Didier Queloz   \n",
       "119  2020    Roger Penrose;Reinhard Genzel;Andrea M. Ghez   \n",
       "120  2021  Giorgio Parisi;Klaus Hasselmann;Syukuro Manabe   \n",
       "121  2022       Alain Aspect;John Clauser;Anton Zeilinger   \n",
       "122  2023   Pierre Agostini;Ferenc Krausz;Anne L'Huillier   \n",
       "\n",
       "                                              cemistry  \\\n",
       "0                         Jacobus Henricus van 't Hoff   \n",
       "1                                         Emil Fischer   \n",
       "2                                     Svante Arrhenius   \n",
       "3                                       William Ramsay   \n",
       "4                                     Adolf von Baeyer   \n",
       "..                                                 ...   \n",
       "118  John B. Goodenough;M. Stanley Whittingham;Akir...   \n",
       "119             Emmanuelle Charpentier;Jennifer Doudna   \n",
       "120                      Benjamin List;David MacMillan   \n",
       "121  Carolyn Bertozzi;Morten P. Meldal;Karl Barry S...   \n",
       "122         Moungi Bawendi;Louis E. Brus;Alexey Ekimov   \n",
       "\n",
       "                                              medicine  \\\n",
       "0                                     Emil von Behring   \n",
       "1                                          Ronald Ross   \n",
       "2                                  Niels Ryberg Finsen   \n",
       "3                                          Ivan Pavlov   \n",
       "4                                          Robert Koch   \n",
       "..                                                 ...   \n",
       "118  William Kaelin Jr.;Peter J. Ratcliffe;Gregg L....   \n",
       "119   Harvey J. Alter;Michael Houghton;Charles M. Rice   \n",
       "120                     David Julius;Ardem Patapoutian   \n",
       "121                                       Svante Pääbo   \n",
       "122                       Katalin Karikó;Drew Weissman   \n",
       "\n",
       "                          literature  \\\n",
       "0                    Sully Prudhomme   \n",
       "1                    Theodor Mommsen   \n",
       "2              Bjørnstjerne Bjørnson   \n",
       "3    Frédéric Mistral;José Echegaray   \n",
       "4                 Henryk Sienkiewicz   \n",
       "..                               ...   \n",
       "118                     Peter Handke   \n",
       "119                     Louise Glück   \n",
       "120                Abdulrazak Gurnah   \n",
       "121                     Annie Ernaux   \n",
       "122                        Jon Fosse   \n",
       "\n",
       "                                                 peace  \\\n",
       "0                          Henry Dunant;Frédéric Passy   \n",
       "1                   Élie Ducommun;Charles Albert Gobat   \n",
       "2                                        Randal Cremer   \n",
       "3                      Institut de Droit International   \n",
       "4                                   Bertha von Suttner   \n",
       "..                                                 ...   \n",
       "118                                         Abiy Ahmed   \n",
       "119                               World Food Programme   \n",
       "120                         Maria Ressa;Dmitry Muratov   \n",
       "121  Ales Bialiatski;Memorial;Centre for Civil Libe...   \n",
       "122                                   Narges Mohammadi   \n",
       "\n",
       "                                         economics  \n",
       "0                                                —  \n",
       "1                                             None  \n",
       "2                                             None  \n",
       "3                                             None  \n",
       "4                                             None  \n",
       "..                                             ...  \n",
       "118   Abhijit Banerjee;Esther Duflo;Michael Kremer  \n",
       "119                  Paul Milgrom;Robert B. Wilson  \n",
       "120         David Card;Joshua Angrist;Guido Imbens  \n",
       "121  Ben Bernanke;Douglas Diamond;Philip H. Dybvig  \n",
       "122                                 Claudia Goldin  \n",
       "\n",
       "[123 rows x 7 columns]"
      ]
     },
     "execution_count": 51,
     "metadata": {},
     "output_type": "execute_result"
    }
   ],
   "source": [
    "pd.read_csv(\"yabdabado.csv\")"
   ]
  },
  {
   "cell_type": "code",
   "execution_count": null,
   "metadata": {},
   "outputs": [],
   "source": []
  }
 ],
 "metadata": {
  "kernelspec": {
   "display_name": "base",
   "language": "python",
   "name": "python3"
  },
  "language_info": {
   "codemirror_mode": {
    "name": "ipython",
    "version": 3
   },
   "file_extension": ".py",
   "mimetype": "text/x-python",
   "name": "python",
   "nbconvert_exporter": "python",
   "pygments_lexer": "ipython3",
   "version": "3.7.6"
  }
 },
 "nbformat": 4,
 "nbformat_minor": 2
}
